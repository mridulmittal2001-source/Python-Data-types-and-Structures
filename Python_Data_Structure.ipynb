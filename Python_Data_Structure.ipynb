{
  "nbformat": 4,
  "nbformat_minor": 0,
  "metadata": {
    "colab": {
      "provenance": []
    },
    "kernelspec": {
      "name": "python3",
      "display_name": "Python 3"
    },
    "language_info": {
      "name": "python"
    }
  },
  "cells": [
    {
      "cell_type": "markdown",
      "source": [
        "#Data Types and Structures Questions"
      ],
      "metadata": {
        "id": "KCnFxsIAsENM"
      }
    },
    {
      "cell_type": "markdown",
      "source": [
        "##Q1. What are data structures, and why are they important?\n",
        "   - Data structures are ways of organizing and storing data in a computer so that it can be accessed and modified efficiently.\n",
        "   - They are important because they allow us to manage and manipulate data effectively, which is crucial for developing efficient algorithms and software.\n",
        "   - Different data structures are suited for different tasks, and choosing the right one can significantly impact the performance of a program."
      ],
      "metadata": {
        "id": "Me3V4BfusEX_"
      }
    },
    {
      "cell_type": "markdown",
      "source": [
        "##Q2. Explain the difference between mutable and immutable data types with examples?\n",
        "  - Mutable data types are those whose values can be changed after they are created. Think of them like a whiteboard where you can erase and write new information.\n",
        "  - Immutable data types cannot be changed after they are created. Once you set their value, it's fixed. If you want to represent a different value, you have to create a new instance of that data type. Think of them like a stone tablet where the inscription is permanent."
      ],
      "metadata": {
        "id": "lULVZ6KbsEeu"
      }
    },
    {
      "cell_type": "code",
      "source": [
        "#Example for Mutable Data Types\n",
        "#Lists: You can add, remove, or change elements in a list after it's created.\n",
        "\n",
        "my_list = [1, 2, 3]\n",
        "print(f\"Original list: {my_list}\")\n",
        "\n",
        "my_list.append(4)\n",
        "print(f\"After appending: {my_list}\")\n",
        "\n",
        "my_list[0] = 10\n",
        "print(f\"After changing an element: {my_list}\")\n",
        "\n",
        "\n",
        "#Dictionaries: You can add, remove, or change key-value pairs in a dictionary.\n",
        "\n",
        "my_dict = {'a': 1, 'b': 2}\n",
        "print(f\"Original dictionary: {my_dict}\")\n",
        "\n",
        "my_dict['c'] = 3\n",
        "print(f\"After adding a key-value pair: {my_dict}\")\n",
        "\n",
        "my_dict['a'] = 100\n",
        "print(f\"After changing a value: {my_dict}\")"
      ],
      "metadata": {
        "colab": {
          "base_uri": "https://localhost:8080/"
        },
        "id": "nMh4nbcCwQQI",
        "outputId": "0095e3f0-1108-4fc1-ba98-e42e8fe481f9"
      },
      "execution_count": 20,
      "outputs": [
        {
          "output_type": "stream",
          "name": "stdout",
          "text": [
            "Original list: [1, 2, 3]\n",
            "After appending: [1, 2, 3, 4]\n",
            "After changing an element: [10, 2, 3, 4]\n",
            "Original dictionary: {'a': 1, 'b': 2}\n",
            "After adding a key-value pair: {'a': 1, 'b': 2, 'c': 3}\n",
            "After changing a value: {'a': 100, 'b': 2, 'c': 3}\n"
          ]
        }
      ]
    },
    {
      "cell_type": "code",
      "source": [
        "#Example for Immutable Data Types\n",
        "#Strings: You cannot change individual characters in a string. If you want a modified string, you create a new one.\n",
        "\n",
        "my_string = \"hello\"\n",
        "print(f\"Original string: {my_string}\")\n",
        "\n",
        "# This would cause an error:\n",
        "# my_string[0] = 'H'\n",
        "\n",
        "new_string = my_string.upper()\n",
        "print(f\"New string after converting to uppercase: {new_string}\")\n",
        "print(f\"Original string remains unchanged: {my_string}\")\n",
        "\n",
        "\n",
        "#Tuples: Similar to lists, but you cannot change, add, or remove elements after creation.\n",
        "\n",
        "my_tuple = (1, 2, 3)\n",
        "print(f\"Original tuple: {my_tuple}\")\n",
        "\n",
        "# This would cause an error:\n",
        "# my_tuple[0] = 10\n",
        "\n",
        "# To \"change\" a tuple, you create a new one\n",
        "new_tuple = my_tuple + (4,)\n",
        "print(f\"New tuple after concatenation: {new_tuple}\")\n",
        "print(f\"Original tuple remains unchanged: {my_tuple}\")"
      ],
      "metadata": {
        "colab": {
          "base_uri": "https://localhost:8080/"
        },
        "id": "UYOheAxHw_A6",
        "outputId": "d00b7cac-5152-4bcd-870b-efee5a3e55c0"
      },
      "execution_count": 21,
      "outputs": [
        {
          "output_type": "stream",
          "name": "stdout",
          "text": [
            "Original string: hello\n",
            "New string after converting to uppercase: HELLO\n",
            "Original string remains unchanged: hello\n",
            "Original tuple: (1, 2, 3)\n",
            "New tuple after concatenation: (1, 2, 3, 4)\n",
            "Original tuple remains unchanged: (1, 2, 3)\n"
          ]
        }
      ]
    },
    {
      "cell_type": "markdown",
      "source": [
        "##Q3. What are the main differences between lists and tuples in Python?\n",
        "###Ans -  The main differences between lists and tuples in Python lie in their mutability and syntax.\n",
        "\n",
        "- Mutability: The most significant difference is that ***lists are mutable***, meaning you can change their elements after creation (add, remove, or modify elements). ***Tuples are immutable***, meaning you cannot change their elements once the tuple is created.\n",
        "\n",
        "- Syntax: Lists are defined using square brackets`[]`, while tuples are defined using parentheses`()`.\n",
        "\n",
        "Here's a quick summary:\n",
        "\n",
        "| Feature    | List                 | Tuple            |\n",
        "|------------|----------------------|------------------|\n",
        "| Mutability | Mutable              | Immutable        |\n",
        "| Syntax     | Square brackets `[]` | Parentheses `()` |\n",
        "\n",
        "Because of their immutability, tuples are often used for data that should not be changed, such as coordinates or database records. Lists are more flexible and are used when you need to modify the collection of items."
      ],
      "metadata": {
        "id": "3-UcIy8osEgs"
      }
    },
    {
      "cell_type": "markdown",
      "source": [
        "##Q4. Describe how dictionaries store data.\n",
        "###Ans - Dictionaries in Python store data as key-value pairs. Imagine a real-world dictionary where you look up a word (the key) to find its definition (the value).\n",
        "In Python dictionaries:\n",
        "- Each **key** is unique and is used to access its corresponding value.\n",
        "- Each **value** is the data associated with a key.\n",
        "- The key-value pairs are enclosed in curly braces `{}`.\n",
        "- Each pair is separated by a comma `,`.\n",
        "- A colon `:` separates a key from its value.\n",
        "\n",
        "For example, a dictionary storing information about a person might look like this:\n",
        "\n",
        "`person = {\"name\": \"Alice\", \"age\": 30, \"city\": \"New York\"}`\n",
        "\n",
        "Here, \"name\", \"age\", and \"city\" are the keys, and \"Alice\", 30, and \"New York\" are their respective values.\n",
        "\n",
        "-> You can access a value by using its key in square brackets:\n",
        "\n",
        "`print(person[\"name\"])  # Output: Alice`\n",
        "\n",
        "####Dictionaries are very useful for storing and retrieving data when you have a unique identifier (the key) for each piece of information (the value)."
      ],
      "metadata": {
        "id": "cieibXDAsEjs"
      }
    },
    {
      "cell_type": "markdown",
      "source": [
        "##Q5. Why might you use a set instead of a list in Python?\n",
        "###You might use a set instead of a list in Python for a few key reasons:\n",
        "- Uniqueness: Sets only store unique elements. If you need to ensure that you don't have duplicate values, a set is the natural choice. Lists, on the other hand, can contain multiple occurrences of the same element.\n",
        "- Performance for Membership Testing: Checking if an element exists in a set `(element in my_set)` is generally much faster than checking for membership in a list, especially for large collections. This is because sets are implemented using hash tables.\n",
        "- Mathematical Set Operations: Sets support mathematical set operations like union, intersection, difference, and symmetric difference directly through built-in methods and operators. While you could perform these operations with lists, it would be more complex and less efficient.\n",
        "\n",
        "However, lists have their own advantages:\n",
        "\n",
        "- Ordered: Lists maintain the order of elements as they are inserted. Sets do not guarantee any specific order.\n",
        "- Mutable and Indexed: You can access elements in a list by their index, and lists are mutable, meaning you can change elements at specific positions. Sets are mutable (you can add or remove elements), but they don't support indexing or slicing because they are unordered.\n",
        "\n",
        "So, the choice between a set and a list depends on your specific needs regarding uniqueness, order, performance for membership checks, and the types of operations you need to perform."
      ],
      "metadata": {
        "id": "p4Q2nbm9sEmV"
      }
    },
    {
      "cell_type": "markdown",
      "source": [
        "##Q6. What is a string in Python, and how is it different from a list?\n",
        "\n",
        "####In Python,\n",
        "A string is a sequence of characters, used to represent text. Strings are immutable, meaning once a string is created, you cannot change individual characters within it. You can create strings by enclosing characters in single quotes ('...'), double quotes (`\"...\"`), or triple quotes (`\"\"\"...\"\"\"` or `'''...'''`) for multi-line strings.\n",
        "\n",
        "A list is a collection of items that are ordered and mutable. Lists can hold items of different data types (integers, strings, other lists, etc.), and you can modify a list after it's created by adding, removing, or changing elements. Lists are defined by enclosing items in square brackets (`[...]`) and separating them with commas.\n",
        "\n",
        "Here's a summary of the key differences:\n",
        "\n",
        "- Mutability: Strings are immutable, while lists are mutable.\n",
        "- Content: Strings are sequences of characters (text). Lists are collections of items of any data type.\n",
        "- Order: Both strings and lists are ordered sequences, meaning the elements have a defined position.\n",
        "- Syntax: Strings are defined with quotes (`'`, `\"`, `'''`, `\"\"\"`), while lists are defined with square brackets (`[]`).\n",
        "\n",
        "Both strings and lists are sequence types, which means they share some common behaviors, such as supporting indexing and slicing to access parts of the sequence. However, their fundamental differences in mutability and the types of elements they can hold make them suitable for different purposes."
      ],
      "metadata": {
        "id": "8tnp2MivsEpA"
      }
    },
    {
      "cell_type": "markdown",
      "source": [
        "## Q7. How do tuples ensure data integrity in Python?\n",
        "###Tuples in Python ensure data integrity primarily through their immutability.\n",
        "\n",
        "Since tuples cannot be changed after they are created, you can be confident that the data within a tuple will remain exactly as it was when the tuple was defined. This is particularly useful in situations where you want to:\n",
        "\n",
        "- **Represent fixed collections of related data:** For example, a coordinate pair `(x, y)`, an RGB color value `(red, green, blue)`, or a date `(year, month, day)`. These are often fixed values that shouldn't be altered accidentally.\n",
        "- **Use them as dictionary keys:** Because tuples are immutable and hashable (meaning they have a fixed hash value that doesn't change), they can be used as keys in dictionaries, which require their keys to be immutable. Lists, being mutable, cannot be used as dictionary keys.\n",
        "- **Pass data to functions without worrying about modification:** When you pass a tuple to a function, the function receives a reference to the original tuple, but it cannot moddify the contents of that tuple. This prevents unintended side effects.\n",
        "\n",
        "While immutability provides a strong guarantee of data integrity for the elements within the tuple itself, it's important to note that if a tuple contains mutable objects (like lists), the contents of those mutable objects can still be changed. The tuple's immutability only applies to the references to the objects it contains, not the objects themselves.\n",
        "\n",
        "In summary, the immutability of tuples prevents accidental modification of their elements, which helps maintain data integrity for fixed collections of data."
      ],
      "metadata": {
        "id": "qGiBpGzqsErq"
      }
    },
    {
      "cell_type": "markdown",
      "source": [
        "##Q8. What is a hash table, and how does it relate to dictionaries in Python?\n",
        "A **hash table** (also known as a hash map or dictionary) is a data structure that implements an associative array, which is a structure that can map keys to values. The key idea behind a hash table is to use a hash function to compute an index into an array of buckets or slots, from which the desired value can be found.\n",
        "\n",
        "Here's how it generally works:\n",
        "\n",
        "1. **Hash function:** When you want to store a key-value pair, the key is passed to a hash function. The hash function calculates a numerical value (the hash code or hash value) based on the key's content.\n",
        "2. **Indexing:** This hash code is then used to determine the index in an array where the value will be stored or retrieved.\n",
        "3. **Collision Handling:** It's possible for different keys to produce the same hash code. This is called a collision. Hash tables have mechanisms to handle collisions, such as chaining (storing multiple key-value pairs with the same hash code in a linked list at that index) or open addressing (probing for the next available slot).\n",
        "\n",
        "**How this relates to dictionaries in Python:**\n",
        "\n",
        "Python dictionaries (`dict`) are implemented using hash tables. When you create a dictionary and add key-value pairs:\n",
        "\n",
        "- Python calculates the hash value for each key using a built-in hash function.\n",
        "- This hash value is used to determine where in the underlying hash table the key-value pair will be stored.\n",
        "- When you try to access a value using its key (`my_dict[key]`), Python calculates the hash value of the key again and uses it to quickly find the corresponding value in the hash table.\n",
        "\n",
        "This hash table implementation is why dictionary lookups (accessing a value by its key) are typically very fast in Python, even for large dictionaries. The average time complexity for getting, setting, or deleting an item in a dictionary is O(1), meaning it takes constant time regardless of the size of the dictionary.\n",
        "\n",
        "Because dictionaries rely on hashing, the keys used in a dictionary must be hashable. Hashable objects are those that have a hash value that remains constant throughout their lifetime and can be compared to other objects for equality. Immutable data types like strings, numbers, and tuples (if they only contain hashable elements) are hashable and can be used as dictionary keys. Mutable data types like lists and sets are not hashable and cannot be used as dictionary keys."
      ],
      "metadata": {
        "id": "Re9PdthwsEuX"
      }
    },
    {
      "cell_type": "markdown",
      "source": [
        "##Q9. Can lists contain different data types in Python?\n",
        "Yes, absolutely! One of the flexible aspects of Python lists is that they can contain elements of different data types within the same list.\n",
        "\n",
        "For example, you can have a list that includes integers, strings, floats, and even other lists or tuples:\n",
        "\n",
        "```\n",
        "my_mixed_list = [1, \"hello\", 3.14, [5, 6], (7, 8)]\n",
        "```\n",
        "\n",
        "print(my_mixed_list)\n",
        "This is a key difference between Python lists and arrays in some other programming languages, which often require all elements to be of the same data type. This flexibility in Python lists makes them very versatile for storing various kinds of data in a single collection."
      ],
      "metadata": {
        "id": "qBrZzwuT_y2C"
      }
    },
    {
      "cell_type": "markdown",
      "source": [
        "##Q10.  Explain why strings are immutable in Python.\n",
        "In Python, strings are immutable. This means that once a string is created, you cannot change individual characters within that string. Any operation that appears to modify a string, such as concatenation or replacing a character, actually creates a new string in memory with the desired changes. The original string remains unchanged.\n",
        "\n",
        "There are several reasons for this design choice:\n",
        "\n",
        "1. **Performance:** Immutability can lead to performance optimizations. For example, Python can safely share the same string object among multiple variables if they have the same value, as there's no risk of one variable modifying the string and affecting others.\n",
        "2. **Thread Safety:** In multithreaded environments, immutable objects are inherently thread-safe. Multiple threads can access the same string without needing locks, as no thread can modify it.\n",
        "3. **Hashability:** Immutable objects can be used as keys in dictionaries and elements in sets because their hash value is constant. Mutable objects cannot be used in this way because their hash value could change.\n",
        "4. Predictability: Immutability makes code easier to reason about. You can be confident that a string's value won't change unexpectedly.\n",
        "\n",
        "While it might seem inconvenient at times, the immutability of strings in Python contributes to the language's efficiency, safety, and predictability.\n",
        "\n",
        "\n"
      ],
      "metadata": {
        "id": "buoqvxrf_zmy"
      }
    },
    {
      "cell_type": "markdown",
      "source": [
        "##Q11. What advantages do dictionaries offer over lists for certain tasks?\n",
        "Dictionaries in Python offer several advantages over lists, especially when you need to store and retrieve data based on a key rather than an index. Here are some key advantages:\n",
        "\n",
        "1. **Efficient Lookups:** Dictionaries provide very fast lookups based on keys. On average, retrieving a value from a dictionary using its key takes constant time (O(1)), regardless of the size of the dictionary. Lists, on the other hand, require iterating through the elements to find a specific value (unless you know the index), which can take linear time (O(n)) in the worst case. This makes dictionaries ideal for scenarios where you frequently need to access data by a unique identifier.\n",
        "2. **Meaningful Keys:** Dictionaries use keys that you define, which can be more descriptive and meaningful than numerical indices. This improves code readability and helps you understand the data structure at a glance. For example, instead of accessing data with `my_list[0]`, you can use `my_dictionary['username']`.\n",
        "3. **Storing Related Data:** Dictionaries are excellent for storing related pieces of data together as key-value pairs. This allows you to represent objects or entities with multiple attributes in a structured way. For instance, you could use a dictionary to represent a person with keys like 'name', 'age', and 'city'.\n",
        "4. **Flexibility:** Dictionaries are more flexible than lists when the order of elements doesn't matter, and you need to associate values with specific identifiers. You can easily add, remove, or modify key-value pairs.\n",
        "\n",
        "In summary, dictionaries are advantageous over lists when you need to quickly access data using a meaningful key, store related data in a structured way, and when the order of elements is not a primary concern. Lists are better suited for ordered collections of items where you need to access elements by their position or iterate through them sequentially.\n",
        "\n"
      ],
      "metadata": {
        "id": "tjrSHjuPACUN"
      }
    },
    {
      "cell_type": "markdown",
      "source": [
        "##Q12. Describe a scenario where using a tuple would be preferable over a list?\n",
        "\n",
        "A common scenario where using a tuple is preferable to a list is when you need to represent a collection of items that should not change, such as coordinates, RGB color values, or database records where the order and values are fixed.\n",
        "\n",
        "Here's why a tuple is better in such cases:\n",
        "\n",
        "1. **Immutability:** Tuples are immutable, meaning their elements cannot be changed after creation. This provides data integrity and prevents accidental modification of the data. If you have a set of coordinates like (x, y) that represent a fixed point, using a tuple ensures that x and y will always remain together and in that specific order.\n",
        "2. **Performance:** Due to their immutability, tuples can be slightly more performant than lists in some operations. Python can make certain optimizations when it knows the data won't change.\n",
        "3. **Readability:** Using a tuple clearly signals to other programmers (and yourself) that this collection of data is intended to be constant and should not be altered.\n",
        "4. **Use in Dictionaries and Sets:** Because tuples are immutable and hashable, they can be used as keys in dictionaries and elements in sets, which is not possible with mutable lists. For example, you could use a tuple of coordinates as a key in a dictionary to store information about a specific location.\n",
        "\n",
        "For example, if you're storing a list of points in a 2D plane, representing each point as a tuple `(x, y)` is a good choice because the x and y coordinates of a point are fixed and should not be individually changed. A list `[x, y]` would allow for modifications that might inadvertently break the meaning of the data as a single point.\n",
        "\n",
        "In summary, choose a tuple when you have a fixed collection of items where the order matters, the data should not be modified, and you might need to use the collection as a dictionary key or set element. Use a list when you need a mutable collection where elements can be added, removed, or changed."
      ],
      "metadata": {
        "id": "cWjC7IEgAIUO"
      }
    },
    {
      "cell_type": "markdown",
      "source": [
        "##Q13. How do sets handle duplicate values in Python?\n",
        "\n",
        "Sets in Python are designed to store unique elements. When you add elements to a set, any duplicate values are automatically discarded. This means that a set will only ever contain one instance of each unique element.\n",
        "\n",
        "Here's an example:\n",
        "\n",
        "```\n",
        "my_list = [1, 2, 2, 3, 4, 4, 5]\n",
        "my_set = set(my_list)\n",
        "print(my_set)\n",
        "```\n",
        "Output:\n",
        "```\n",
        "{1, 2, 3, 4, 5}\n",
        "```\n",
        "As you can see, even though the list `my_list` had duplicate values (2 and 4), the resulting set `my_set` only contains each unique value once. This makes sets useful for tasks like removing duplicates from a list or checking for membership efficiently."
      ],
      "metadata": {
        "id": "S9dv6NC9BeOO"
      }
    },
    {
      "cell_type": "markdown",
      "source": [
        "##Q14. How does the “in” keyword work differently for lists and dictionaries?\n",
        "The `in` keyword in Python is used to check for membership within a collection. While it serves the same general purpose of checking if an element exists, its behavior and what it checks for differ between lists and dictionaries:\n",
        "\n",
        "**For Lists:**\n",
        "\n",
        "When you use the `in` keyword with a list, it checks if a given value exists as an element within the list. It iterates through the list and compares each element to the value you're searching for.\n",
        "\n",
        "```\n",
        "my_list = [10, 20, 30, 40, 50]\n",
        "\n",
        "print(20 in my_list)   # Checks if the value 20 is an element in the list (True)\n",
        "print(60 in my_list)   # Checks if the value 60 is an element in the list (False)\n",
        "```\n",
        "\n",
        "**For Dictionaries:**\n",
        "\n",
        "When you use the `in` keyword with a dictionary, it checks if a given value exists as a key within the dictionary. It does not check for values by default.\n",
        "\n",
        "```\n",
        "my_dict = {'a': 1, 'b': 2, 'c': 3}\n",
        "\n",
        "print('b' in my_dict)  # Checks if the key 'b' exists in the dictionary (True)\n",
        "print('d' in my_dict)  # Checks if the key 'd' exists in the dictionary (False)\n",
        "print(1 in my_dict)    # Checks if the key 1 exists in the dictionary (False, it checks keys, not values)\n",
        "```\n",
        "\n",
        "If you want to check if a specific value exists in a dictionary, you need to use the `.values()` method to get a view of the dictionary's values and then use `in` with that view:\n",
        "\n",
        "```\n",
        "my_dict = {'a': 1, 'b': 2, 'c': 3}\n",
        "\n",
        "print(2 in my_dict.values())  # Checks if the value 2 exists in the dictionary's values (True)\n",
        "print(4 in my_dict.values())  # Checks if the value 4 exists in the dictionary's values (False)\n",
        "```\n",
        "\n",
        "In summary:\n",
        "\n",
        "- `in` with a list checks for the presence of a value as an element.\n",
        "- `in` with a dictionary checks for the presence of a value as a key.\n",
        "\n",
        "This distinction is important to remember when working with these data structures to ensure you are checking for the correct type of membership."
      ],
      "metadata": {
        "id": "CR9r8oMmBeBs"
      }
    },
    {
      "cell_type": "markdown",
      "source": [
        "##Q15. Can you modify the elements of a tuple? Explain why or why not.\n",
        "No, you cannot modify the elements of a tuple after it has been created. This is because tuples are immutable in Python.\n",
        "\n",
        "Immutability means that once a tuple is defined, its contents cannot be changed. You cannot add, remove, or modify elements within an existing tuple.\n",
        "\n",
        "If you need a collection of items that can be modified after creation, you should use a list instead, as lists are mutable.\n",
        "\n",
        "The reasons for tuples being immutable are similar to why strings are immutable, as discussed earlier: performance optimizations, thread safety, hashability (allowing them to be used as dictionary keys and set elements), and predictability in your code.\n"
      ],
      "metadata": {
        "id": "NPn5qkMyBd1W"
      }
    },
    {
      "cell_type": "markdown",
      "source": [
        "##Q16. What is a nested dictionary, and give an example of its use case?\n",
        "A **nested dictionary** is a dictionary where one or more of the values are themselves dictionaries. This allows you to create hierarchical data structures, representing relationships between different pieces of information.\n",
        "\n",
        "Essentially, you have a dictionary where each key maps to another dictionary, which can in turn contain more dictionaries or other data types.\n",
        "\n",
        "**Use Case Example:**\n",
        "\n",
        "A common use case for nested dictionaries is to represent data with multiple levels of organization, such as:\n",
        "\n",
        "- Hierarchical data: Like a file system structure (folders within folders).\n",
        "- Structured records: Representing complex objects or entities with nested properties.\n",
        "- Configuration settings: Organizing settings into logical groups.\n",
        "- JSON-like data: Nested dictionaries closely mirror the structure of JSON data, which is widely used for data exchange.\n",
        "\n",
        "Here's an example representing information about different users, where each user's data is stored in a nested dictionary:\n",
        "\n",
        "```\n",
        "users = {\n",
        "    \"user1\": {\n",
        "        \"name\": \"Alice\",\n",
        "        \"age\": 30,\n",
        "        \"contact\": {\n",
        "            \"email\": \"alice@example.com\",\n",
        "            \"phone\": \"123-456-7890\"\n",
        "        },\n",
        "        \"roles\": [\"admin\", \"editor\"]\n",
        "    },\n",
        "    \"user2\": {\n",
        "        \"name\": \"Bob\",\n",
        "        \"age\": 25,\n",
        "        \"contact\": {\n",
        "            \"email\": \"bob@example.com\",\n",
        "            \"phone\": \"987-654-3210\"\n",
        "        },\n",
        "        \"roles\": [\"viewer\"]\n",
        "    }\n",
        "}\n",
        "\n",
        "# Accessing data in the nested dictionary\n",
        "print(users[\"user1\"][\"name\"])\n",
        "print(users[\"user2\"][\"contact\"][\"email\"])\n",
        "print(users[\"user1\"][\"roles\"][0])\n",
        "```\n",
        "\n",
        "In this example, the `users` dictionary contains keys \"user1\" and \"user2\". The value associated with each of these keys is another dictionary containing details about the user, including their name, age, a nested \"contact\" dictionary, and a list of \"roles\". This structure makes it easy to organize and access related information."
      ],
      "metadata": {
        "id": "3d-_62FOBDlG"
      }
    },
    {
      "cell_type": "markdown",
      "source": [
        "##Q17. Describe the time complexity of accessing elements in a dictionary.\n",
        "Accessing elements in a Python dictionary using their key has an average-case time complexity of **O(1)**, which means it takes constant time.\n",
        "\n",
        "This is a significant advantage of dictionaries, as the time it takes to retrieve a value by its key does not increase significantly with the size of the dictionary. Whether the dictionary has 10 items or 10 million items, the average time to access an element by its key is roughly the same.\n",
        "\n",
        "This efficiency is achieved through the use of hash tables. When you add a key-value pair to a dictionary, Python calculates a hash value for the key and uses it to determine where to store the key-value pair in memory. When you access an element using a key, Python calculates the hash value again and quickly locates the corresponding value.\n",
        "\n",
        "However, in the worst-case scenario (which is rare in practice), if there are many hash collisions (different keys having the same hash value), the time complexity for access can degrade to O(n), where 'n' is the number of items in the dictionary. This happens when Python needs to linearly search through a small group of elements that have collided. But as mentioned, this is uncommon with well-distributed hash functions.\n",
        "\n",
        "In summary, you can generally rely on dictionary lookups being very fast, with an average time complexity of O(1)."
      ],
      "metadata": {
        "id": "3a5uWWfbBEMB"
      }
    },
    {
      "cell_type": "markdown",
      "source": [
        "##Q18. In what situations are lists preferred over dictionaries?\n",
        "While dictionaries are excellent for key-based lookups and storing structured data, lists are preferred in several situations:\n",
        "\n",
        "1. **Ordered Collections:** When the order of elements is important and needs to be maintained, lists are the way to go. Lists preserve the insertion order of elements, whereas dictionaries (in Python versions before 3.7, and guaranteed from 3.7 onwards) store elements in a way that is optimized for key lookups, not necessarily insertion order.\n",
        "2. **Storing Sequences of Items:** If you have a sequence of items where you need to access elements by their position or index, lists are the natural choice. Examples include a list of numbers, a sequence of characters, or a series of events in chronological order.\n",
        "3. **When You Need to Iterate Through All Elements:** While you can iterate through dictionary keys or values, iterating through all elements in a list is often more straightforward when you simply need to process each item in a collection without relying on a key.\n",
        "4. **Storing Duplicate Items:** Lists can contain duplicate elements, whereas dictionaries cannot have duplicate keys. If your data includes repeated values and you need to preserve them, a list is necessary.\n",
        "5. **Simple Linear Data Structures:** For simple linear collections where you don't need the overhead of key-value pairs, lists are more memory-efficient and simpler to use.\n",
        "6. **When You Need to Append or Insert Elements at Specific Positions:** Lists provide methods like `append()`, `insert()`, and `pop()` that make it easy to add or remove elements at the beginning, end, or specific positions. While you can add or remove key-value pairs in a dictionary, you don't have the same level of control over the positional order.\n",
        "\n",
        "In essence, use a list when you need an ordered, mutable sequence of elements, where accessing elements by index or iterating through the collection is a primary requirement, and when you might need to store duplicate items. Use a dictionary when you need to associate values with unique keys and quickly access data based on those keys, and when the order of elements is not critical.\n"
      ],
      "metadata": {
        "id": "_t9JKUHJBFDK"
      }
    },
    {
      "cell_type": "markdown",
      "source": [
        "##Q19. Why are dictionaries considered unordered, and how does that affect data retrieval?\n",
        "Historically, dictionaries in Python (specifically in versions before 3.7) were considered inherently unordered. This meant that the order in which you inserted items into a dictionary was not guaranteed to be the order in which they were stored or retrieved. The internal structure of the dictionary, which is based on hash tables, prioritized fast key lookups over maintaining insertion order.\n",
        "\n",
        "However, starting with Python 3.7, the insertion order of items in dictionaries is guaranteed to be preserved. While this is a significant change, the underlying principle of dictionaries being optimized for fast key lookups remains the same.\n",
        "\n",
        "Even with the guaranteed insertion order in newer Python versions, the concept of dictionaries being \"unordered\" in the sense of not relying on numerical indexing like lists is still relevant.\n",
        "\n",
        "Here's how the concept of dictionaries being unordered (in the sense of not being indexed by position) affects data retrieval:\n",
        "\n",
        "1. **No Positional Indexing:** You cannot access elements in a dictionary using numerical indices (like `my_dict[0]`) as you would with a list. Data is accessed solely by its key (`my_dict['my_key']`).\n",
        "2. **Reliance on Keys:** Data retrieval in dictionaries is entirely dependent on knowing the specific key associated with the value you want to retrieve. If you don't know the key, you have to iterate through the keys (or values, or items) to find the desired data.\n",
        "3. **Efficiency for Key Lookups:** The unordered nature (in the historical sense) and the hash-based implementation are precisely what make dictionary lookups by key so efficient (average O(1)). If dictionaries were ordered by insertion and relied solely on positional indexing, accessing elements by their \"key\" (which would effectively be a value you'd have to search for) would be much slower.\n",
        "\n",
        "In summary, while newer Python versions guarantee insertion order, dictionaries are still fundamentally different from lists in how data is accessed. They are optimized for fast lookups based on keys, not positional indexing. This design makes them ideal for situations where you need to quickly retrieve data associated with a unique identifier.\n",
        "\n"
      ],
      "metadata": {
        "id": "T0cBsCLQBFMd"
      }
    },
    {
      "cell_type": "markdown",
      "source": [
        "##Q20. Explain the difference between a list and a dictionary in terms of data retrieval.\n",
        "The main difference between lists and dictionaries in terms of data retrieval lies in how you access the elements:\n",
        "\n",
        "- **Lists:** In a list, you access elements by their index, which is their position in the sequence. Indices are typically integers starting from 0 for the first element. Data retrieval from a list is like finding an item based on its position in a numbered list.\n",
        "\n",
        "```\n",
        "my_list = ['apple', 'banana', 'cherry']\n",
        "print(my_list[0])  # Accessing the first element by index\n",
        "```\n",
        "\n",
        "- **Dictionaries:** In a dictionary, you access elements by their key. Keys are unique identifiers that you define for each value. Data retrieval from a dictionary is like looking up a word in a dictionary to find its definition.\n",
        "\n",
        "```\n",
        "my_dict = {'fruit': 'apple', 'color': 'red'}\n",
        "print(my_dict['fruit'])  # Accessing the value associated with the key 'fruit'\n",
        "```\n",
        "\n",
        "Key Differences in Data Retrieval:\n",
        "\n",
        "- **Access Mechanism:** Lists use positional indices (integers), while dictionaries use keys (which can be various immutable data types like strings, numbers, or tuples).\n",
        "- **Efficiency:** Accessing elements by index in a list can be very fast if you know the index. However, searching for a specific value in a list without knowing its index requires iterating through the list, which can be slow for large lists (O(n)). Accessing elements by key in a dictionary is generally very fast (average O(1)) because of how dictionaries are implemented internally using hash tables.\n",
        "- **Meaningfulness:** Dictionary keys can be meaningful and descriptive (e.g., 'username', 'product_id'), making your code more readable. List indices are simply positions and don't inherently convey information about the data itself.\n",
        "- **Order:** While newer Python versions guarantee insertion order in dictionaries, you don't typically rely on positional order for data retrieval in dictionaries. In lists, the order is fundamental to how you access elements.\n",
        "\n",
        "In summary, if you need to access data based on its position in a sequence, a list is suitable. If you need to quickly retrieve data based on a unique identifier or a meaningful label, a dictionary is the more efficient and often more readable choice.\n",
        "\n",
        "Perhaps you'd like to explore more about when to choose between lists and dictionaries?"
      ],
      "metadata": {
        "id": "z5lohdREBFW2"
      }
    },
    {
      "cell_type": "markdown",
      "source": [
        "#Practical Questions:"
      ],
      "metadata": {
        "id": "VemOtzBcBv8O"
      }
    },
    {
      "cell_type": "markdown",
      "source": [
        "##Q1. Write a code to create a string with your name and print it."
      ],
      "metadata": {
        "id": "YEk8yhGSO2uu"
      }
    },
    {
      "cell_type": "code",
      "source": [
        "my_name = \"Mridul Mittal\"\n",
        "print(my_name)"
      ],
      "metadata": {
        "colab": {
          "base_uri": "https://localhost:8080/"
        },
        "id": "FpkBISrpPTnR",
        "outputId": "ec53eda7-68e3-42a2-fdf7-fd6cf472a03b"
      },
      "execution_count": 22,
      "outputs": [
        {
          "output_type": "stream",
          "name": "stdout",
          "text": [
            "Mridul Mittal\n"
          ]
        }
      ]
    },
    {
      "cell_type": "markdown",
      "source": [
        "##Q2. Write a code to find the length of the string \"Hello World\"."
      ],
      "metadata": {
        "id": "68d4dA1ZPfBa"
      }
    },
    {
      "cell_type": "code",
      "source": [
        "my_string = \"Hello World\"\n",
        "string_length = len(my_string)\n",
        "print(f\"The length of the string '{my_string}' is: {string_length}\")"
      ],
      "metadata": {
        "colab": {
          "base_uri": "https://localhost:8080/"
        },
        "id": "Q6pA4BuHPt7d",
        "outputId": "697af40d-ec70-402e-8280-4c73f01b3c99"
      },
      "execution_count": 23,
      "outputs": [
        {
          "output_type": "stream",
          "name": "stdout",
          "text": [
            "The length of the string 'Hello World' is: 11\n"
          ]
        }
      ]
    },
    {
      "cell_type": "markdown",
      "source": [
        "##Q3.Write a code to slice the first 3 characters from the string \"Python Programming\"."
      ],
      "metadata": {
        "id": "GLAq9ePKPeay"
      }
    },
    {
      "cell_type": "code",
      "source": [
        "my_string = \"Python Programming\"\n",
        "first_three_chars = my_string[:3]\n",
        "print(f\"The first 3 characters of '{my_string}' are: {first_three_chars}\")"
      ],
      "metadata": {
        "colab": {
          "base_uri": "https://localhost:8080/"
        },
        "id": "rd1V-YS-QPqk",
        "outputId": "54d6e711-96bd-4a63-a5d4-1de94bf32625"
      },
      "execution_count": 24,
      "outputs": [
        {
          "output_type": "stream",
          "name": "stdout",
          "text": [
            "The first 3 characters of 'Python Programming' are: Pyt\n"
          ]
        }
      ]
    },
    {
      "cell_type": "markdown",
      "source": [
        "##Q4. Write a code to convert the string \"hello\" to uppercase."
      ],
      "metadata": {
        "id": "SG1nljWxQb5W"
      }
    },
    {
      "cell_type": "code",
      "source": [
        "my_string = \"hello\"\n",
        "uppercase_string = my_string.upper()\n",
        "print(f\"The uppercase version of '{my_string}' is: {uppercase_string}\")"
      ],
      "metadata": {
        "colab": {
          "base_uri": "https://localhost:8080/"
        },
        "id": "bj9KeQp5Qaf-",
        "outputId": "8af02c11-c6b3-4b75-a221-9abb25b2599f"
      },
      "execution_count": 25,
      "outputs": [
        {
          "output_type": "stream",
          "name": "stdout",
          "text": [
            "The uppercase version of 'hello' is: HELLO\n"
          ]
        }
      ]
    },
    {
      "cell_type": "markdown",
      "source": [
        "##Q5. Write a code to replace the word \"apple\" with \"orange\" in the string \"I like apple\"."
      ],
      "metadata": {
        "id": "ksYA2aV4Qq-c"
      }
    },
    {
      "cell_type": "code",
      "source": [
        "my_string = \"I like apple\"\n",
        "new_string = my_string.replace(\"apple\", \"orange\")\n",
        "print(f\"The original string is: '{my_string}'\")\n",
        "print(f\"The string after replacement is: '{new_string}'\")"
      ],
      "metadata": {
        "colab": {
          "base_uri": "https://localhost:8080/"
        },
        "id": "d2HFIYJMQyRO",
        "outputId": "ba5358e4-6abe-4bc8-99da-82fac4d90e35"
      },
      "execution_count": 26,
      "outputs": [
        {
          "output_type": "stream",
          "name": "stdout",
          "text": [
            "The original string is: 'I like apple'\n",
            "The string after replacement is: 'I like orange'\n"
          ]
        }
      ]
    },
    {
      "cell_type": "markdown",
      "source": [
        "##Q6. Write a code to create a list with numbers 1 to 5 and print it."
      ],
      "metadata": {
        "id": "p2NC8PadRbJX"
      }
    },
    {
      "cell_type": "code",
      "source": [
        "my_list = [1, 2, 3, 4, 5]\n",
        "print(my_list)"
      ],
      "metadata": {
        "colab": {
          "base_uri": "https://localhost:8080/"
        },
        "id": "gscTE-y_SG2u",
        "outputId": "1d9dc918-4d2e-492a-a701-6fa7cfd580c9"
      },
      "execution_count": 27,
      "outputs": [
        {
          "output_type": "stream",
          "name": "stdout",
          "text": [
            "[1, 2, 3, 4, 5]\n"
          ]
        }
      ]
    },
    {
      "cell_type": "markdown",
      "source": [
        "##Q7. Write a code to append the number 10 to the list [1, 2, 3, 4]."
      ],
      "metadata": {
        "id": "rkJ7yue0Rh08"
      }
    },
    {
      "cell_type": "code",
      "source": [
        "my_list = [1, 2, 3, 4]\n",
        "my_list.append(10)\n",
        "print(my_list)"
      ],
      "metadata": {
        "colab": {
          "base_uri": "https://localhost:8080/"
        },
        "id": "c2ZZv4zbSVHe",
        "outputId": "1631b9e8-e4f1-4f94-94ab-8fabf7db2439"
      },
      "execution_count": 28,
      "outputs": [
        {
          "output_type": "stream",
          "name": "stdout",
          "text": [
            "[1, 2, 3, 4, 10]\n"
          ]
        }
      ]
    },
    {
      "cell_type": "markdown",
      "source": [
        "##Q8. Write a code to remove the number 3 from the list [1, 2, 3, 4, 5]."
      ],
      "metadata": {
        "id": "TVkDBBtWRiHj"
      }
    },
    {
      "cell_type": "code",
      "source": [
        "my_list = [1, 2, 3, 4, 5]\n",
        "my_list.remove(3)\n",
        "print(my_list)"
      ],
      "metadata": {
        "colab": {
          "base_uri": "https://localhost:8080/"
        },
        "id": "zVeYT0IqSYx4",
        "outputId": "a57752b4-fd93-4dab-8c8b-75cbf486f95d"
      },
      "execution_count": 29,
      "outputs": [
        {
          "output_type": "stream",
          "name": "stdout",
          "text": [
            "[1, 2, 4, 5]\n"
          ]
        }
      ]
    },
    {
      "cell_type": "markdown",
      "source": [
        "##Q9.  Write a code to access the second element in the list ['a', 'b', 'c', 'd']."
      ],
      "metadata": {
        "id": "FIgMrYAURiTs"
      }
    },
    {
      "cell_type": "code",
      "source": [
        "my_list = ['a', 'b', 'c', 'd']\n",
        "second_element = my_list[1]\n",
        "print(second_element)"
      ],
      "metadata": {
        "colab": {
          "base_uri": "https://localhost:8080/"
        },
        "id": "Qoo51tdIS1Wg",
        "outputId": "801f047c-a888-4b30-e9f5-a58f8b334f6d"
      },
      "execution_count": 30,
      "outputs": [
        {
          "output_type": "stream",
          "name": "stdout",
          "text": [
            "b\n"
          ]
        }
      ]
    },
    {
      "cell_type": "markdown",
      "source": [
        "##10. Write a code to reverse the list [10, 20, 30, 40, 50]."
      ],
      "metadata": {
        "id": "slVSvXk6Ripx"
      }
    },
    {
      "cell_type": "code",
      "source": [
        "my_list = [10, 20, 30, 40, 50]\n",
        "my_list.reverse()\n",
        "print(my_list)"
      ],
      "metadata": {
        "colab": {
          "base_uri": "https://localhost:8080/"
        },
        "id": "bkmzUTFLS9qj",
        "outputId": "ceae3f85-4f11-4f7e-e8d9-439fd17c965b"
      },
      "execution_count": 31,
      "outputs": [
        {
          "output_type": "stream",
          "name": "stdout",
          "text": [
            "[50, 40, 30, 20, 10]\n"
          ]
        }
      ]
    },
    {
      "cell_type": "markdown",
      "source": [
        "##Q11. Write a code to create a tuple with the elements 100, 200, 300 and print it."
      ],
      "metadata": {
        "id": "GgFdnJrgTCkr"
      }
    },
    {
      "cell_type": "code",
      "source": [
        "my_tuple = (100, 200, 300)\n",
        "print(my_tuple)"
      ],
      "metadata": {
        "colab": {
          "base_uri": "https://localhost:8080/"
        },
        "id": "UDenxHUhTOHK",
        "outputId": "d0db9f97-5b1d-42fa-e19d-2855924bca8b"
      },
      "execution_count": 32,
      "outputs": [
        {
          "output_type": "stream",
          "name": "stdout",
          "text": [
            "(100, 200, 300)\n"
          ]
        }
      ]
    },
    {
      "cell_type": "markdown",
      "source": [
        "##Q12. Write a code to access the second-to-last element of the tuple ('red', 'green', 'blue', 'yellow')."
      ],
      "metadata": {
        "id": "tWADW8OOTTvl"
      }
    },
    {
      "cell_type": "code",
      "source": [
        "my_tuple = ('red', 'green', 'blue', 'yellow')\n",
        "second_to_last_element = my_tuple[-2]\n",
        "print(second_to_last_element)"
      ],
      "metadata": {
        "colab": {
          "base_uri": "https://localhost:8080/"
        },
        "id": "lKgawwzrjFLL",
        "outputId": "e556f14b-e384-4f0c-fe21-7c80a3763e68"
      },
      "execution_count": 33,
      "outputs": [
        {
          "output_type": "stream",
          "name": "stdout",
          "text": [
            "blue\n"
          ]
        }
      ]
    },
    {
      "cell_type": "markdown",
      "source": [
        "##Q13. Write a code to find the minimum number in the tuple (10, 20, 5, 15)."
      ],
      "metadata": {
        "id": "-KkOQ7JyjO4E"
      }
    },
    {
      "cell_type": "code",
      "source": [
        "my_tuple = (10, 20, 5, 15)\n",
        "minimum_number = min(my_tuple)\n",
        "print(minimum_number)"
      ],
      "metadata": {
        "colab": {
          "base_uri": "https://localhost:8080/"
        },
        "id": "w4nIJHE-jaVS",
        "outputId": "ef68174b-04f1-4d46-ea2c-8bdd76861079"
      },
      "execution_count": 34,
      "outputs": [
        {
          "output_type": "stream",
          "name": "stdout",
          "text": [
            "5\n"
          ]
        }
      ]
    },
    {
      "cell_type": "markdown",
      "source": [
        "##Q14. Write a code to find the index of the element \"cat\" in the tuple ('dog', 'cat', 'rabbit')."
      ],
      "metadata": {
        "id": "tcMFD7jdjOp_"
      }
    },
    {
      "cell_type": "code",
      "source": [
        "my_tuple = ('dog', 'cat', 'rabbit')\n",
        "index_of_cat = my_tuple.index('cat')\n",
        "print(index_of_cat)"
      ],
      "metadata": {
        "colab": {
          "base_uri": "https://localhost:8080/"
        },
        "id": "ZDrnXynqjo1Z",
        "outputId": "2b043dfe-cf31-4f2e-b933-d323ff19892d"
      },
      "execution_count": 35,
      "outputs": [
        {
          "output_type": "stream",
          "name": "stdout",
          "text": [
            "1\n"
          ]
        }
      ]
    },
    {
      "cell_type": "markdown",
      "source": [
        "##Q15.  Write a code to create a tuple containing three different fruits and check if \"kiwi\" is in it."
      ],
      "metadata": {
        "id": "kszwlfg9jOdb"
      }
    },
    {
      "cell_type": "code",
      "source": [
        "fruits = ('apple', 'banana', 'orange')\n",
        "if \"kiwi\" in fruits:\n",
        "  print(\"Kiwi is in the tuple.\")\n",
        "else:\n",
        "  print(\"Kiwi is not in the tuple.\")"
      ],
      "metadata": {
        "colab": {
          "base_uri": "https://localhost:8080/"
        },
        "id": "89lBm3NBjpae",
        "outputId": "a9ee1d91-14a0-450d-9560-6e6491db2bf6"
      },
      "execution_count": 36,
      "outputs": [
        {
          "output_type": "stream",
          "name": "stdout",
          "text": [
            "Kiwi is not in the tuple.\n"
          ]
        }
      ]
    },
    {
      "cell_type": "markdown",
      "source": [
        "##Q16. Write a code to create a set with the elements 'a', 'b', 'c' and print it."
      ],
      "metadata": {
        "id": "eous8CxFkDdI"
      }
    },
    {
      "cell_type": "code",
      "source": [
        "my_set = {'a', 'b', 'c'}\n",
        "print(my_set)"
      ],
      "metadata": {
        "colab": {
          "base_uri": "https://localhost:8080/"
        },
        "id": "-UqRSDSqkKFU",
        "outputId": "fda6cdf4-17da-4434-85bf-fd75260437da"
      },
      "execution_count": 37,
      "outputs": [
        {
          "output_type": "stream",
          "name": "stdout",
          "text": [
            "{'b', 'c', 'a'}\n"
          ]
        }
      ]
    },
    {
      "cell_type": "markdown",
      "source": [
        "##Q17. Write a code to clear all elements from the set {1, 2, 3, 4, 5}."
      ],
      "metadata": {
        "id": "YY7Ikb6_kKrK"
      }
    },
    {
      "cell_type": "code",
      "source": [
        "my_set = {1, 2, 3, 4, 5}\n",
        "my_set.clear()\n",
        "print(my_set)"
      ],
      "metadata": {
        "colab": {
          "base_uri": "https://localhost:8080/"
        },
        "id": "ilECDuNOkMjK",
        "outputId": "e0165a9c-f476-4f91-dcee-fbb383a4fc3b"
      },
      "execution_count": 38,
      "outputs": [
        {
          "output_type": "stream",
          "name": "stdout",
          "text": [
            "set()\n"
          ]
        }
      ]
    },
    {
      "cell_type": "markdown",
      "source": [
        "##Q18. Write a code to remove the element 4 from the set {1, 2, 3, 4}."
      ],
      "metadata": {
        "id": "Y6xaNgm5lWuB"
      }
    },
    {
      "cell_type": "code",
      "source": [
        "my_set = {1, 2, 3, 4}\n",
        "my_set.remove(4)\n",
        "print(my_set)"
      ],
      "metadata": {
        "colab": {
          "base_uri": "https://localhost:8080/"
        },
        "id": "p4r0U0hAlWV4",
        "outputId": "09044409-80b2-4ab4-fc71-6b02f7bd7e0b"
      },
      "execution_count": 39,
      "outputs": [
        {
          "output_type": "stream",
          "name": "stdout",
          "text": [
            "{1, 2, 3}\n"
          ]
        }
      ]
    },
    {
      "cell_type": "markdown",
      "source": [
        "##Q19. Write a code to find the union of two sets {1, 2, 3} and {3, 4, 5}."
      ],
      "metadata": {
        "id": "5Zt3U87tlo1-"
      }
    },
    {
      "cell_type": "code",
      "source": [
        "set1 = {1, 2, 3}\n",
        "set2 = {3, 4, 5}\n",
        "union_set = set1 | set2\n",
        "print(union_set)"
      ],
      "metadata": {
        "colab": {
          "base_uri": "https://localhost:8080/"
        },
        "id": "qyAczlVwluJN",
        "outputId": "72e785e4-00cb-4cfe-ed4b-da210c122749"
      },
      "execution_count": 41,
      "outputs": [
        {
          "output_type": "stream",
          "name": "stdout",
          "text": [
            "{1, 2, 3, 4, 5}\n"
          ]
        }
      ]
    },
    {
      "cell_type": "markdown",
      "source": [
        "##Q20. Write a code to find the intersection of two sets {1, 2, 3} and {2, 3, 4}."
      ],
      "metadata": {
        "id": "pk6N7lPil77v"
      }
    },
    {
      "cell_type": "code",
      "source": [
        "set1 = {1, 2, 3}\n",
        "set2 = {2, 3, 4}\n",
        "intersection_set = set1 & set2\n",
        "print(intersection_set)"
      ],
      "metadata": {
        "colab": {
          "base_uri": "https://localhost:8080/"
        },
        "id": "5rwGtr-Wl8l6",
        "outputId": "6bce2655-4309-45c1-b3b6-9965dbe452f2"
      },
      "execution_count": 42,
      "outputs": [
        {
          "output_type": "stream",
          "name": "stdout",
          "text": [
            "{2, 3}\n"
          ]
        }
      ]
    },
    {
      "cell_type": "markdown",
      "source": [
        "##Q21. Write a code to create a dictionary with the keys \"name\", \"age\", and \"city\", and print it."
      ],
      "metadata": {
        "id": "1rmtku6XmLpH"
      }
    },
    {
      "cell_type": "code",
      "source": [
        "my_dict = {\"Name\": \"Mridul\", \"Age\": 24, \"City\": \"Hanumangarh\"}\n",
        "print(my_dict)"
      ],
      "metadata": {
        "colab": {
          "base_uri": "https://localhost:8080/"
        },
        "id": "_kOUUU2rmS-r",
        "outputId": "92ace3aa-4ef2-4055-ea06-6456a23c3f18"
      },
      "execution_count": 44,
      "outputs": [
        {
          "output_type": "stream",
          "name": "stdout",
          "text": [
            "{'Name': 'Mridul', 'Age': 24, 'City': 'Hanumangarh'}\n"
          ]
        }
      ]
    },
    {
      "cell_type": "markdown",
      "source": [
        "##Q22.  Write a code to add a new key-value pair \"country\": \"USA\" to the dictionary {'name': 'John', 'age': 25}."
      ],
      "metadata": {
        "id": "L8or2KfzmrwK"
      }
    },
    {
      "cell_type": "code",
      "source": [
        "my_dict = {'name': 'John', 'age': 25}\n",
        "my_dict[\"country\"] = \"USA\"\n",
        "print(my_dict)"
      ],
      "metadata": {
        "colab": {
          "base_uri": "https://localhost:8080/"
        },
        "id": "6riSLQZvm4zu",
        "outputId": "d95a96ad-f36f-45fe-f5ad-c0514a54462d"
      },
      "execution_count": 45,
      "outputs": [
        {
          "output_type": "stream",
          "name": "stdout",
          "text": [
            "{'name': 'John', 'age': 25, 'country': 'USA'}\n"
          ]
        }
      ]
    },
    {
      "cell_type": "markdown",
      "source": [
        "##Q23. Write a code to access the value associated with the key \"name\" in the dictionary {'name': 'Alice', 'age':30}."
      ],
      "metadata": {
        "id": "k8jrDVgJnHhZ"
      }
    },
    {
      "cell_type": "code",
      "source": [
        "my_dict = {'name': 'Mridul', 'age': 24}\n",
        "name_value = my_dict[\"name\"]\n",
        "print(name_value)"
      ],
      "metadata": {
        "colab": {
          "base_uri": "https://localhost:8080/"
        },
        "id": "n4GQGlTlnZO8",
        "outputId": "42a2ef5e-5670-4ac9-c819-3db2ac31096b"
      },
      "execution_count": 47,
      "outputs": [
        {
          "output_type": "stream",
          "name": "stdout",
          "text": [
            "Mridul\n"
          ]
        }
      ]
    },
    {
      "cell_type": "markdown",
      "source": [
        "##Q24. Write a code to remove the key \"age\" from the dictionary {'name': 'Bob', 'age': 22, 'city': 'New York'}."
      ],
      "metadata": {
        "id": "JG7tpiNxni_5"
      }
    },
    {
      "cell_type": "code",
      "source": [
        "my_dict = {'name': 'Bob', 'age': 22, 'city': 'New York'}\n",
        "del my_dict[\"age\"]\n",
        "print(my_dict)"
      ],
      "metadata": {
        "colab": {
          "base_uri": "https://localhost:8080/"
        },
        "id": "KMkJy0BOnipG",
        "outputId": "1846998d-b23d-4241-a364-d271b005a886"
      },
      "execution_count": 48,
      "outputs": [
        {
          "output_type": "stream",
          "name": "stdout",
          "text": [
            "{'name': 'Bob', 'city': 'New York'}\n"
          ]
        }
      ]
    },
    {
      "cell_type": "markdown",
      "source": [
        "##Q25. Write a code to check if the key \"city\" exists in the dictionary {'name': 'Alice', 'city': 'Paris'}."
      ],
      "metadata": {
        "id": "Z7zlBANfn9L6"
      }
    },
    {
      "cell_type": "code",
      "source": [
        "my_dict = {'name': 'Alice', 'city': 'Paris'}\n",
        "if \"city\" in my_dict:\n",
        "  print(\"The key 'city' exists in the dictionary.\")\n",
        "else:\n",
        "  print(\"The key 'city' does not exist in the dictionary.\")"
      ],
      "metadata": {
        "colab": {
          "base_uri": "https://localhost:8080/"
        },
        "id": "zaNio5HSn-5t",
        "outputId": "7b09ed2c-747e-4ccc-97dd-a3b935a38688"
      },
      "execution_count": 49,
      "outputs": [
        {
          "output_type": "stream",
          "name": "stdout",
          "text": [
            "The key 'city' exists in the dictionary.\n"
          ]
        }
      ]
    },
    {
      "cell_type": "markdown",
      "source": [
        "##Q26. Write a code to create a list, a tuple, and a dictionary, and print them all."
      ],
      "metadata": {
        "id": "BK_MB-9woEl4"
      }
    },
    {
      "cell_type": "code",
      "source": [
        "my_list = [1, 2, 3]\n",
        "my_tuple = ('a', 'b', 'c')\n",
        "my_dict = {'name': 'Alice', 'city': 'Paris'}\n",
        "\n",
        "print(\"List:\", my_list)\n",
        "print(\"Tuple:\", my_tuple)\n",
        "print(\"Dictionary:\", my_dict)"
      ],
      "metadata": {
        "colab": {
          "base_uri": "https://localhost:8080/"
        },
        "id": "9NnieBlUoFLO",
        "outputId": "ed3bf9f5-c152-4226-f2da-7ceacf64ee07"
      },
      "execution_count": 50,
      "outputs": [
        {
          "output_type": "stream",
          "name": "stdout",
          "text": [
            "List: [1, 2, 3]\n",
            "Tuple: ('a', 'b', 'c')\n",
            "Dictionary: {'name': 'Alice', 'city': 'Paris'}\n"
          ]
        }
      ]
    },
    {
      "cell_type": "markdown",
      "source": [
        "##Q27. Write a code to create a list of 5 random numbers between 1 and 100, sort it in ascending order, and print the result.(replaced)"
      ],
      "metadata": {
        "id": "4537k0cHoGPB"
      }
    },
    {
      "cell_type": "code",
      "source": [
        "import random\n",
        "\n",
        "# Create a list of 5 random numbers between 1 and 100\n",
        "random_numbers = [random.randint(1, 100) for _ in range(5)]\n",
        "\n",
        "# Sort the list in ascending order\n",
        "random_numbers.sort()\n",
        "\n",
        "# Print the sorted list\n",
        "print(random_numbers)"
      ],
      "metadata": {
        "id": "6qkWW_OGoG0J"
      },
      "execution_count": null,
      "outputs": []
    },
    {
      "cell_type": "markdown",
      "source": [
        "##Q28. Write a code to create a list with strings and print the element at the third index."
      ],
      "metadata": {
        "id": "ctOn5TrCo9pA"
      }
    },
    {
      "cell_type": "code",
      "source": [
        "my_list = [\"apple\", \"banana\", \"cherry\", \"date\", \"elderberry\"]\n",
        "third_element = my_list[2]\n",
        "print(third_element)"
      ],
      "metadata": {
        "colab": {
          "base_uri": "https://localhost:8080/"
        },
        "id": "pcD4aV7To-GT",
        "outputId": "ad249d38-2637-4046-acc4-a31b1f427b7f"
      },
      "execution_count": 51,
      "outputs": [
        {
          "output_type": "stream",
          "name": "stdout",
          "text": [
            "cherry\n"
          ]
        }
      ]
    },
    {
      "cell_type": "markdown",
      "source": [
        "##Q29. Write a code to combine two dictionaries into one and print the result."
      ],
      "metadata": {
        "id": "6zje5kbKo-k-"
      }
    },
    {
      "cell_type": "code",
      "source": [
        "dict1 = {'a': 1, 'b': 2}\n",
        "dict2 = {'c': 3, 'd': 4}\n",
        "\n",
        "# Method 1: Using the update() method\n",
        "combined_dict_update = dict1.copy()\n",
        "combined_dict_update.update(dict2)\n",
        "print(\"Combined using update():\", combined_dict_update)\n",
        "\n",
        "# Method 2: Using the ** operator (Python 3.5+). This is often cleaner.\n",
        "combined_dict_star = {**dict1, **dict2}\n",
        "print(\"Combined using ** operator:\", combined_dict_star)"
      ],
      "metadata": {
        "colab": {
          "base_uri": "https://localhost:8080/"
        },
        "id": "sQqH-K8Po_I4",
        "outputId": "3f3a0194-0b2c-40f7-a61b-62a04c64143f"
      },
      "execution_count": 52,
      "outputs": [
        {
          "output_type": "stream",
          "name": "stdout",
          "text": [
            "Combined using update(): {'a': 1, 'b': 2, 'c': 3, 'd': 4}\n",
            "Combined using ** operator: {'a': 1, 'b': 2, 'c': 3, 'd': 4}\n"
          ]
        }
      ]
    },
    {
      "cell_type": "markdown",
      "source": [
        "##Q30. Write a code to convert a list of strings into a set."
      ],
      "metadata": {
        "id": "gih1so9Ope92"
      }
    },
    {
      "cell_type": "code",
      "source": [
        "my_list = [\"apple\", \"banana\", \"cherry\", \"apple\"]\n",
        "my_set = set(my_list)\n",
        "print(my_set)"
      ],
      "metadata": {
        "colab": {
          "base_uri": "https://localhost:8080/"
        },
        "id": "8wY5h5OSpfix",
        "outputId": "2ee78b21-59df-4da5-b7f8-3a04e2aeba13"
      },
      "execution_count": 53,
      "outputs": [
        {
          "output_type": "stream",
          "name": "stdout",
          "text": [
            "{'banana', 'cherry', 'apple'}\n"
          ]
        }
      ]
    }
  ]
}